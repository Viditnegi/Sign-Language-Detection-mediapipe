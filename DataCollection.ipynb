{
 "cells": [
  {
   "cell_type": "code",
   "execution_count": 1,
   "id": "ec28aafe-2c67-4082-bb4f-130ee54bec9e",
   "metadata": {
    "tags": []
   },
   "outputs": [],
   "source": [
    "import numpy as np\n",
    "import os\n",
    "import cv2\n",
    "import mediapipe as mp\n",
    "import matplotlib.pyplot as plt\n",
    "\n",
    "classes_list = ['sad','friendly','trap','photo','map','bright','deaf','away','help','I','meet','my','name']\n",
    "num_of_videos = 30\n",
    "sequence_len = 20\n",
    "image_height = 240\n",
    "image_width = 320"
   ]
  },
  {
   "cell_type": "code",
   "execution_count": 2,
   "id": "6b263915-0f95-434a-a9b0-0bb9aaa1095f",
   "metadata": {
    "tags": []
   },
   "outputs": [],
   "source": [
    "mp_holistic = mp.solutions.holistic      #Holistic model (detects)\n",
    "mp_drawing = mp.solutions.drawing_utils  #drawing utilities   (draws)\n",
    "mp_drawing_styles = mp.solutions.drawing_styles\n",
    "\n",
    "holistic = mp_holistic.Holistic(min_detection_confidence=0.5,min_tracking_confidence=0.5)\n",
    "\n",
    "\n",
    "def draw_landmarks(image,results):\n",
    "    mp_drawing.draw_landmarks(image,results.pose_landmarks,mp_holistic.POSE_CONNECTIONS,\n",
    "                              mp_drawing.DrawingSpec(color=(101,111,10),thickness=1,circle_radius=1),\n",
    "                              mp_drawing.DrawingSpec(color=(80,256,121),thickness=1,circle_radius=1)\n",
    "                             )\n",
    "    mp_drawing.draw_landmarks(image,results.left_hand_landmarks,mp_holistic.HAND_CONNECTIONS,\n",
    "                              mp_drawing.DrawingSpec(color=(101,111,10),thickness=1,circle_radius=1),\n",
    "                              mp_drawing.DrawingSpec(color=(80,256,121),thickness=1,circle_radius=1)\n",
    "                             )\n",
    "    mp_drawing.draw_landmarks(image,results.right_hand_landmarks,mp_holistic.HAND_CONNECTIONS,\n",
    "                              mp_drawing.DrawingSpec(color=(101,111,10),thickness=1,circle_radius=1),\n",
    "                              mp_drawing.DrawingSpec(color=(80,256,121),thickness=1,circle_radius=1)\n",
    "                             )"
   ]
  },
  {
   "cell_type": "code",
   "execution_count": 3,
   "id": "db7cac06-5fe6-4173-a85c-073613ff5515",
   "metadata": {
    "tags": []
   },
   "outputs": [],
   "source": [
    "def save_video(frames, output_path):\n",
    "    height, width, _ = frames[0].shape\n",
    "    fourcc = cv2.VideoWriter_fourcc(*'mp4v')\n",
    "    out = cv2.VideoWriter(output_path, fourcc, 30.0, (width, height))\n",
    "    for frame in frames:\n",
    "        out.write(frame)\n",
    "    out.release()"
   ]
  },
  {
   "cell_type": "code",
   "execution_count": 4,
   "id": "f0d3738b-b238-4590-8406-52ef7cdd3bb4",
   "metadata": {
    "tags": []
   },
   "outputs": [],
   "source": [
    "checker = np.zeros(len(classes_list)).astype(np.int32)"
   ]
  },
  {
   "cell_type": "code",
   "execution_count": 9,
   "id": "8500caf1-26f3-47fb-b40e-1e98b5f7c687",
   "metadata": {
    "tags": []
   },
   "outputs": [
    {
     "ename": "KeyboardInterrupt",
     "evalue": "",
     "output_type": "error",
     "traceback": [
      "\u001b[1;31m---------------------------------------------------------------------------\u001b[0m",
      "\u001b[1;31mKeyboardInterrupt\u001b[0m                         Traceback (most recent call last)",
      "Cell \u001b[1;32mIn[9], line 16\u001b[0m\n\u001b[0;32m     13\u001b[0m \u001b[38;5;28;01melse\u001b[39;00m:\n\u001b[0;32m     14\u001b[0m     done \u001b[38;5;241m=\u001b[39m \u001b[38;5;124m'\u001b[39m\u001b[38;5;124mnot done\u001b[39m\u001b[38;5;124m'\u001b[39m\n\u001b[1;32m---> 16\u001b[0m frame_rgb \u001b[38;5;241m=\u001b[39m \u001b[43mcv2\u001b[49m\u001b[38;5;241;43m.\u001b[39;49m\u001b[43mcvtColor\u001b[49m\u001b[43m(\u001b[49m\u001b[43mframe\u001b[49m\u001b[43m,\u001b[49m\u001b[43mcv2\u001b[49m\u001b[38;5;241;43m.\u001b[39;49m\u001b[43mCOLOR_BGR2RGB\u001b[49m\u001b[43m)\u001b[49m\n\u001b[0;32m     17\u001b[0m results \u001b[38;5;241m=\u001b[39m holistic\u001b[38;5;241m.\u001b[39mprocess(frame_rgb)\n\u001b[0;32m     18\u001b[0m draw_landmarks(frame,results)\n",
      "\u001b[1;31mKeyboardInterrupt\u001b[0m: "
     ]
    }
   ],
   "source": [
    "os.makedirs('datasets',exist_ok=True)\n",
    "os.makedirs('datasets/original',exist_ok=True)\n",
    "\n",
    "cap = cv2.VideoCapture(0)\n",
    "\n",
    "sign_num = 0\n",
    "\n",
    "while True:\n",
    "    while True:\n",
    "        ret,frame = cap.read()\n",
    "        if checker[sign_num] == True:\n",
    "            done = 'done'\n",
    "        else:\n",
    "            done = 'not done'\n",
    "            \n",
    "        frame_rgb = cv2.cvtColor(frame,cv2.COLOR_BGR2RGB)\n",
    "        results = holistic.process(frame_rgb)\n",
    "        draw_landmarks(frame,results)\n",
    "        cv2.putText(frame,f'{done} {sign_num+1}.{classes_list[sign_num]}',(120,200),cv2.FONT_HERSHEY_SIMPLEX,1.5,(255,60,255),3,cv2.LINE_AA)\n",
    "        cv2.imshow('feed',frame)\n",
    "        \n",
    "        ch = cv2.waitKey(10)\n",
    "        if ch == ord('q'):\n",
    "            break\n",
    "        if ch == ord('z') and sign_num > 0:\n",
    "            sign_num-=1\n",
    "        if ch == ord('x') and sign_num < len(classes_list)-1:\n",
    "            sign_num+=1\n",
    "        \n",
    "    os.makedirs(f'datasets/original/{classes_list[sign_num]}',exist_ok=True)  \n",
    "    \n",
    "    for video_num in range(num_of_videos): \n",
    "        frames = []\n",
    "        count = 0\n",
    "        while(True):\n",
    "            ret,frame = cap.read()\n",
    "           \n",
    "            if video_num == 0 and count == 0:\n",
    "                cv2.putText(frame,f'Starting for...{classes_list[sign_num]}',(60,200),cv2.FONT_HERSHEY_SIMPLEX,1.5,(0,60,255),3,cv2.LINE_AA)\n",
    "                cv2.imshow('feed',frame)\n",
    "                cv2.waitKey(3000)\n",
    "            else:\n",
    "                frames.append(frame.copy())\n",
    "                frame_rgb = cv2.cvtColor(frame,cv2.COLOR_BGR2RGB)\n",
    "                results = holistic.process(frame_rgb)\n",
    "\n",
    "                draw_landmarks(frame,results)\n",
    "                cv2.putText(frame,f'{classes_list[sign_num]}/{video_num+1}/{count}',(40,50),cv2.FONT_HERSHEY_SIMPLEX,1.5,(0,255,0),3,cv2.LINE_AA)\n",
    "                cv2.imshow('feed',frame)\n",
    "                if count == sequence_len:\n",
    "                    cv2.waitKey(2000)\n",
    "                    break\n",
    "\n",
    "            count+=1\n",
    "            if cv2.waitKey(1) == ord('q'):\n",
    "                break\n",
    "            \n",
    "        \n",
    "        save_video(frames,f'datasets/original/{classes_list[sign_num]}/{video_num}.mp4')\n",
    "    \n",
    "    checker[sign_num] = True\n",
    "        \n",
    "        \n",
    "cap.release()\n",
    "cv2.destroyAllWindows()"
   ]
  },
  {
   "cell_type": "code",
   "execution_count": 10,
   "id": "3bc86229-fe41-40cc-afc0-120e0fcd9ddf",
   "metadata": {
    "tags": []
   },
   "outputs": [],
   "source": [
    "cap.release()\n",
    "cv2.destroyAllWindows()"
   ]
  },
  {
   "cell_type": "code",
   "execution_count": null,
   "id": "f89ea96d-9b2e-4419-9eda-3dff5ac61a3b",
   "metadata": {},
   "outputs": [],
   "source": []
  },
  {
   "cell_type": "code",
   "execution_count": null,
   "id": "d1605192-fd09-4aec-acf3-305fc6481d51",
   "metadata": {},
   "outputs": [],
   "source": []
  }
 ],
 "metadata": {
  "kernelspec": {
   "display_name": "Sign_lang_2",
   "language": "python",
   "name": "sign_lang_2"
  },
  "language_info": {
   "codemirror_mode": {
    "name": "ipython",
    "version": 3
   },
   "file_extension": ".py",
   "mimetype": "text/x-python",
   "name": "python",
   "nbconvert_exporter": "python",
   "pygments_lexer": "ipython3",
   "version": "3.11.5"
  }
 },
 "nbformat": 4,
 "nbformat_minor": 5
}
